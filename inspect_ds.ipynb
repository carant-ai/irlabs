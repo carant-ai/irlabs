{
 "cells": [
  {
   "cell_type": "code",
   "execution_count": 25,
   "metadata": {},
   "outputs": [
    {
     "name": "stderr",
     "output_type": "stream",
     "text": [
      " 17%|█▋        | 20865/123071 [14:39<1:08:11, 24.98it/s]"
     ]
    }
   ],
   "source": [
    "from lightning.pytorch.callbacks import EarlyStopping, LearningRateMonitor, ModelCheckpoint\n",
    "from lightning.pytorch.loggers import WandbLogger\n",
    "from torch._prims_common import infer_size_shapes\n",
    "from irlabs.models import IRConfig, BertForEmbedding\n",
    "from transformers import AutoTokenizer\n",
    "from irlabs.trainer import IRModule\n",
    "from irlabs.losses.MarginMSE import MarginMSE\n",
    "from irlabs.datasets.SingleLoader import SingleLoaderModule\n",
    "from torch import nn\n",
    "from datasets import load_dataset, Dataset\n",
    "from lightning import Trainer\n",
    "import os\n",
    "import wandb\n",
    "from tqdm import tqdm\n",
    "import torch\n",
    "\n",
    "\n",
    "def main():\n",
    "\n",
    "\n",
    "    data_module.prepare_data()\n",
    "    data_module.setup(stage = \"fit\")\n",
    "    key = [\"positive_score\", \"negative_score\"]\n",
    "    for features, labels in tqdm(data_module.train_dataloader()):\n",
    "        diff = labels[key[0]] - labels[key[1]]\n",
    "        assert diff.shape == (32,)\n",
    "\n",
    "    for features, labels in tqdm(data_module.val_dataloader()):\n",
    "        diff = labels[key[0]] - labels[key[1]]\n",
    "        assert diff.shape == (32,)\n",
    "\n",
    "\n",
    "\n",
    "if __name__ == \"__main__\":\n",
    "    main()\n",
    "\n"
   ]
  },
  {
   "cell_type": "code",
   "execution_count": 23,
   "metadata": {},
   "outputs": [],
   "source": [
    "\n",
    "model = BertForEmbedding.from_pretrained(\"indobenchmark/indobert-base-p1\")\n",
    "dataset = load_dataset(\n",
    "    \"csv\",\n",
    "    data_files=\"/mnt/disks/persist/yourfile.tsv\",\n",
    "    sep=\"\\t\",\n",
    "    split=\"train[:10%]\",\n",
    ")\n",
    "\n",
    "if not isinstance(dataset, Dataset):\n",
    "    raise\n",
    "\n",
    "data_module = SingleLoaderModule(\n",
    "    dataset,\n",
    "    \"/mnt/disks/persist/loaded/new\",\n",
    "    model.config,\n",
    "    [\"positive\", \"anchor\", \"negative\"],\n",
    "    [\"positive_score\", \"negative_score\"],\n",
    "    False,\n",
    "    val_ratio=0.01,\n",
    "    drop_last = True\n",
    "    num_workers= 100\n",
    ")"
   ]
  },
  {
   "cell_type": "code",
   "execution_count": 24,
   "metadata": {},
   "outputs": [],
   "source": [
    "pos_score = dataset[\"positive_score\"] \n",
    "neg_score = dataset[\"negative_score\"]\n",
    "positive = dataset[\"positive\"]\n",
    "anchor = dataset[\"anchor\"]\n",
    "negative = dataset[\"negative\"]\n",
    "for x in negative:\n",
    "    if type(x) != str:\n",
    "        print(\"fuck\")\n",
    "        "
   ]
  },
  {
   "cell_type": "code",
   "execution_count": null,
   "metadata": {},
   "outputs": [],
   "source": []
  }
 ],
 "metadata": {
  "kernelspec": {
   "display_name": ".venv",
   "language": "python",
   "name": "python3"
  },
  "language_info": {
   "codemirror_mode": {
    "name": "ipython",
    "version": 3
   },
   "file_extension": ".py",
   "mimetype": "text/x-python",
   "name": "python",
   "nbconvert_exporter": "python",
   "pygments_lexer": "ipython3",
   "version": "3.10.14"
  }
 },
 "nbformat": 4,
 "nbformat_minor": 2
}
